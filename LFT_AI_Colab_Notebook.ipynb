{
 "cells": [
  {
   "cell_type": "markdown",
   "metadata": {},
   "source": [
    "# LFT AI - Lightweight Fog Testbed com IA\n",
    "\n",
    "Este notebook permite usar o LFT com geração automática de topologias usando IA.\n",
    "\n",
    "## Configuração Inicial"
   ]
  },
  {
   "cell_type": "code",
   "execution_count": null,
   "metadata": {},
   "outputs": [],
   "source": [
    "# Verificar se GPU está disponível\n",
    "import torch\n",
    "print(f\"CUDA disponível: {torch.cuda.is_available()}\")\n",
    "if torch.cuda.is_available():\n",
    "    print(f\"GPU: {torch.cuda.get_device_name(0)}\")\n",
    "    print(f\"VRAM: {torch.cuda.get_device_properties(0).total_memory / 1024**3:.1f} GB\")"
   ]
  },
  {
   "cell_type": "code",
   "execution_count": null,
   "metadata": {},
   "outputs": [],
   "source": [
    "# Instalar dependências\n",
    "!pip install transformers torch accelerate bitsandbytes huggingface_hub"
   ]
  },
  {
   "cell_type": "code",
   "execution_count": null,
   "metadata": {},
   "outputs": [],
   "source": [
    "# Clonar o repositório LFT\n",
    "!git clone https://github.com/dcasseb/lft_ai.git\n",
    "%cd lft_ai"
   ]
  },
  {
   "cell_type": "code",
   "execution_count": null,
   "metadata": {},
   "outputs": [],
   "source": [
    "# Instalar o LFT\n",
    "!pip install -e ."
   ]
  },
  {
   "cell_type": "markdown",
   "metadata": {},
   "source": [
    "## Configurar Token do Hugging Face\n",
    "\n",
    "Você precisa de um token do Hugging Face com acesso aos modelos. Obtenha em: https://huggingface.co/settings/tokens"
   ]
  },
  {
   "cell_type": "code",
   "execution_count": null,
   "metadata": {},
   "outputs": [],
   "source": [
    "# Configurar token do Hugging Face\n",
    "import os\n",
    "\n",
    "# Substitua 'seu_token_aqui' pelo seu token real\n",
    "HF_TOKEN = \"seu_token_aqui\"\n",
    "os.environ[\"HUGGING_FACE_HUB_TOKEN\"] = HF_TOKEN\n",
    "\n",
    "print(\"Token configurado!\")"
   ]
  },
  {
   "cell_type": "markdown",
   "metadata": {},
   "source": [
    "## Testar o Gerador de IA"
   ]
  },
  {
   "cell_type": "code",
   "execution_count": null,
   "metadata": {},
   "outputs": [],
   "source": [
    "# Importar o gerador de IA\n",
    "from profissa_lft.ai_generator import AITopologyGenerator\n",
    "\n",
    "# Criar instância do gerador\n",
    "generator = AITopologyGenerator()\n",
    "print(\"Gerador de IA inicializado!\")"
   ]
  },
  {
   "cell_type": "code",
   "execution_count": null,
   "metadata": {},
   "outputs": [],
   "source": [
    "# Testar geração de código\n",
    "prompt = \"Crie uma topologia simples com 2 hosts conectados por um switch\"\n",
    "\n",
    "try:\n",
    "    code = generator.generate_topology_code(prompt)\n",
    "    print(\"Código gerado:\")\n",
    "    print(\"=\" * 50)\n",
    "    print(code)\n",
    "    print(\"=\" * 50)\n",
    "except Exception as e:\n",
    "    print(f\"Erro: {e}\")"
   ]
  },
  {
   "cell_type": "markdown",
   "metadata": {},
   "source": [
    "## Usar o CLI Interativo"
   ]
  },
  {
   "cell_type": "code",
   "execution_count": null,
   "metadata": {},
   "outputs": [],
   "source": [
    "# Executar CLI interativo\n",
    "!python -m profissa_lft.cli interactive"
   ]
  },
  {
   "cell_type": "markdown",
   "metadata": {},
   "source": [
    "## Gerar Topologia Específica"
   ]
  },
  {
   "cell_type": "code",
   "execution_count": null,
   "metadata": {},
   "outputs": [],
   "source": [
    "# Gerar topologia de rede 4G\n",
    "prompt_4g = \"\"\"\n",
    "Crie uma topologia de rede 4G com:\n",
    "- 1 eNodeB (estação base)\n",
    "- 1 EPC (Evolved Packet Core)\n",
    "- 2 UEs (User Equipment)\n",
    "- 1 servidor web\n",
    "Todos conectados através de switches OpenFlow.\n",
    "\"\"\"\n",
    "\n",
    "try:\n",
    "    code_4g = generator.generate_topology_code(prompt_4g)\n",
    "    \n",
    "    # Salvar código gerado\n",
    "    with open('topologia_4g_gerada.py', 'w') as f:\n",
    "        f.write(code_4g)\n",
    "    \n",
    "    print(\"Topologia 4G gerada e salva em 'topologia_4g_gerada.py'\")\n",
    "    print(\"\\nCódigo:\")\n",
    "    print(code_4g)\n",
    "    \n",
    "except Exception as e:\n",
    "    print(f\"Erro: {e}\")"
   ]
  },
  {
   "cell_type": "markdown",
   "metadata": {},
   "source": [
    "## Salvar no Google Drive (Opcional)"
   ]
  },
  {
   "cell_type": "code",
   "execution_count": null,
   "metadata": {},
   "outputs": [],
   "source": [
    "# Montar Google Drive\n",
    "from google.colab import drive\n",
    "drive.mount('/content/drive')\n",
    "\n",
    "# Copiar arquivos para o Drive\n",
    "!cp -r /content/lft_ai /content/drive/MyDrive/\n",
    "print(\"Arquivos copiados para o Google Drive!\")"
   ]
  },
  {
   "cell_type": "markdown",
   "metadata": {},
   "source": [
    "## Exemplo de Uso Completo"
   ]
  },
  {
   "cell_type": "code",
   "execution_count": null,
   "metadata": {},
   "outputs": [],
   "source": [
    "# Exemplo completo: gerar e executar topologia\n",
    "prompt_exemplo = \"\"\"\n",
    "Crie uma topologia de teste com:\n",
    "- 3 hosts (h1, h2, h3)\n",
    "- 1 switch OpenFlow\n",
    "- h1 e h2 conectados ao switch\n",
    "- h3 conectado diretamente a h1\n",
    "- Configurar IPs: 10.0.0.1/24, 10.0.0.2/24, 10.0.0.3/24\n",
    "\"\"\"\n",
    "\n",
    "try:\n",
    "    # Gerar código\n",
    "    codigo = generator.generate_topology_code(prompt_exemplo)\n",
    "    \n",
    "    # Salvar arquivo\n",
    "    with open('exemplo_topologia.py', 'w') as f:\n",
    "        f.write(codigo)\n",
    "    \n",
    "    print(\"Topologia gerada com sucesso!\")\n",
    "    print(\"\\nPara executar:\")\n",
    "    print(\"python exemplo_topologia.py\")\n",
    "    \n",
    "except Exception as e:\n",
    "    print(f\"Erro na geração: {e}\")"
   ]
  }
 ],
 "metadata": {
  "kernelspec": {
   "display_name": "Python 3",
   "language": "python",
   "name": "python3"
  },
  "language_info": {
   "codemirror_mode": {
    "name": "ipython",
    "version": 3
   },
   "file_extension": ".py",
   "mimetype": "text/x-python",
   "name": "python",
   "nbconvert_exporter": "python",
   "pygments_lexer": "ipython3",
   "version": "3.8.5"
  }
 },
 "nbformat": 4,
 "nbformat_minor": 4
}